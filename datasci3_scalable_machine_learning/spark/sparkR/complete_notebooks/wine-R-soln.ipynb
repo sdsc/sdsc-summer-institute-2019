{
 "cells": [
  {
   "cell_type": "markdown",
   "metadata": {},
   "source": [
    "# Wine Quality Classification - Spark R Jupyter Notebook"
   ]
  },
  {
   "cell_type": "markdown",
   "metadata": {},
   "source": [
    "## Set up environment"
   ]
  },
  {
   "cell_type": "code",
   "execution_count": 1,
   "metadata": {
    "scrolled": true
   },
   "outputs": [
    {
     "name": "stderr",
     "output_type": "stream",
     "text": [
      "\n",
      "Attaching package: ‘SparkR’\n",
      "\n",
      "The following objects are masked from ‘package:stats’:\n",
      "\n",
      "    cov, filter, lag, na.omit, predict, sd, var, window\n",
      "\n",
      "The following objects are masked from ‘package:base’:\n",
      "\n",
      "    as.data.frame, colnames, colnames<-, drop, endsWith, intersect,\n",
      "    rank, rbind, sample, startsWith, subset, summary, transform, union\n",
      "\n",
      "Spark package found in SPARK_HOME: /share/apps/compute/spark/spark-2.4.0-bin-hadoop2.6\n"
     ]
    },
    {
     "name": "stdout",
     "output_type": "stream",
     "text": [
      "Launching java with spark-submit command /share/apps/compute/spark/spark-2.4.0-bin-hadoop2.6/bin/spark-submit   --driver-memory \"2g\" sparkr-shell /tmp/Rtmp5RJo0K/backend_port17c375ac4150 \n"
     ]
    },
    {
     "data": {
      "text/plain": [
       "Java ref type org.apache.spark.sql.SparkSession id 1 "
      ]
     },
     "metadata": {},
     "output_type": "display_data"
    }
   ],
   "source": [
    "# Start Spark session\n",
    "\n",
    "library(SparkR, lib.loc = c(file.path(Sys.getenv(\"SPARK_HOME\"), \"R\", \"lib\")))\n",
    "sparkR.session(master=\"local[*]\", sparkConfig=list(spark.driver.memory=\"2g\"))"
   ]
  },
  {
   "cell_type": "code",
   "execution_count": 2,
   "metadata": {},
   "outputs": [
    {
     "data": {
      "text/html": [
       "'R version 3.6.0 (2019-04-26)'"
      ],
      "text/latex": [
       "'R version 3.6.0 (2019-04-26)'"
      ],
      "text/markdown": [
       "'R version 3.6.0 (2019-04-26)'"
      ],
      "text/plain": [
       "[1] \"R version 3.6.0 (2019-04-26)\""
      ]
     },
     "metadata": {},
     "output_type": "display_data"
    },
    {
     "data": {
      "text/html": [
       "'/share/apps/compute/spark/spark-2.4.0-bin-hadoop2.6'"
      ],
      "text/latex": [
       "'/share/apps/compute/spark/spark-2.4.0-bin-hadoop2.6'"
      ],
      "text/markdown": [
       "'/share/apps/compute/spark/spark-2.4.0-bin-hadoop2.6'"
      ],
      "text/plain": [
       "[1] \"/share/apps/compute/spark/spark-2.4.0-bin-hadoop2.6\""
      ]
     },
     "metadata": {},
     "output_type": "display_data"
    },
    {
     "data": {
      "text/html": [
       "'2.4.0'"
      ],
      "text/latex": [
       "'2.4.0'"
      ],
      "text/markdown": [
       "'2.4.0'"
      ],
      "text/plain": [
       "[1] \"2.4.0\""
      ]
     },
     "metadata": {},
     "output_type": "display_data"
    }
   ],
   "source": [
    "# Print software versions\n",
    "\n",
    "R.Version()$version.string\n",
    "Sys.getenv(\"SPARK_HOME\")\n",
    "sparkR.version()"
   ]
  },
  {
   "cell_type": "markdown",
   "metadata": {},
   "source": [
    "## Read in data"
   ]
  },
  {
   "cell_type": "code",
   "execution_count": 3,
   "metadata": {},
   "outputs": [],
   "source": [
    "# Read data into a Spark dataframe\n",
    "# Data adapted from: https://archive.ics.uci.edu/ml/machine-learning-databases/wine-quality/winequality-white.csv\n",
    "\n",
    "sdf <- read.df(\"../winequality-white.csv\", \"csv\", header=\"true\", inferSchema=\"true\")"
   ]
  },
  {
   "cell_type": "code",
   "execution_count": 4,
   "metadata": {},
   "outputs": [
    {
     "data": {
      "text/plain": [
       "SparkDataFrame[id:int, fixed_acidity:double, volatile_acidity:double, citric_acid:double, residual_sugar:double, chlorides:double, free_sulfur_dioxide:double, total_sulfur_dioxide:double, density:double, pH:double, sulphates:double, alcohol:double, quality:string]"
      ]
     },
     "metadata": {},
     "output_type": "display_data"
    }
   ],
   "source": [
    "# Cache dataframe\n",
    "\n",
    "cache(sdf)"
   ]
  },
  {
   "cell_type": "code",
   "execution_count": 5,
   "metadata": {},
   "outputs": [
    {
     "data": {
      "text/plain": [
       "StructType\n",
       "|-name = \"id\", type = \"IntegerType\", nullable = TRUE\n",
       "|-name = \"fixed_acidity\", type = \"DoubleType\", nullable = TRUE\n",
       "|-name = \"volatile_acidity\", type = \"DoubleType\", nullable = TRUE\n",
       "|-name = \"citric_acid\", type = \"DoubleType\", nullable = TRUE\n",
       "|-name = \"residual_sugar\", type = \"DoubleType\", nullable = TRUE\n",
       "|-name = \"chlorides\", type = \"DoubleType\", nullable = TRUE\n",
       "|-name = \"free_sulfur_dioxide\", type = \"DoubleType\", nullable = TRUE\n",
       "|-name = \"total_sulfur_dioxide\", type = \"DoubleType\", nullable = TRUE\n",
       "|-name = \"density\", type = \"DoubleType\", nullable = TRUE\n",
       "|-name = \"pH\", type = \"DoubleType\", nullable = TRUE\n",
       "|-name = \"sulphates\", type = \"DoubleType\", nullable = TRUE\n",
       "|-name = \"alcohol\", type = \"DoubleType\", nullable = TRUE\n",
       "|-name = \"quality\", type = \"StringType\", nullable = TRUE"
      ]
     },
     "metadata": {},
     "output_type": "display_data"
    }
   ],
   "source": [
    "# Examine schema\n",
    "\n",
    "schema(sdf)"
   ]
  },
  {
   "cell_type": "markdown",
   "metadata": {},
   "source": [
    "## Prepare data"
   ]
  },
  {
   "cell_type": "code",
   "execution_count": 6,
   "metadata": {},
   "outputs": [
    {
     "data": {
      "text/html": [
       "<ol class=list-inline>\n",
       "\t<li>3406</li>\n",
       "\t<li>13</li>\n",
       "</ol>\n"
      ],
      "text/latex": [
       "\\begin{enumerate*}\n",
       "\\item 3406\n",
       "\\item 13\n",
       "\\end{enumerate*}\n"
      ],
      "text/markdown": [
       "1. 3406\n",
       "2. 13\n",
       "\n",
       "\n"
      ],
      "text/plain": [
       "[1] 3406   13"
      ]
     },
     "metadata": {},
     "output_type": "display_data"
    },
    {
     "data": {
      "text/html": [
       "<ol class=list-inline>\n",
       "\t<li>1492</li>\n",
       "\t<li>13</li>\n",
       "</ol>\n"
      ],
      "text/latex": [
       "\\begin{enumerate*}\n",
       "\\item 1492\n",
       "\\item 13\n",
       "\\end{enumerate*}\n"
      ],
      "text/markdown": [
       "1. 1492\n",
       "2. 13\n",
       "\n",
       "\n"
      ],
      "text/plain": [
       "[1] 1492   13"
      ]
     },
     "metadata": {},
     "output_type": "display_data"
    }
   ],
   "source": [
    "# Split into train & test sets\n",
    "\n",
    "seed <- 12345\n",
    "train_df <- sample(sdf, withReplacement=FALSE, fraction=0.7, seed=seed)\n",
    "test_df <- except (sdf, train_df)\n",
    "dim(train_df)\n",
    "dim(test_df)"
   ]
  },
  {
   "cell_type": "markdown",
   "metadata": {},
   "source": [
    "## Train random forest model"
   ]
  },
  {
   "cell_type": "code",
   "execution_count": 7,
   "metadata": {
    "scrolled": true
   },
   "outputs": [
    {
     "data": {
      "text/html": [
       "<dl>\n",
       "\t<dt>$formula</dt>\n",
       "\t\t<dd>'quality ~ .'</dd>\n",
       "\t<dt>$numFeatures</dt>\n",
       "\t\t<dd>12</dd>\n",
       "\t<dt>$features</dt>\n",
       "\t\t<dd><ol>\n",
       "\t<li>'id'</li>\n",
       "\t<li>'fixed_acidity'</li>\n",
       "\t<li>'volatile_acidity'</li>\n",
       "\t<li>'citric_acid'</li>\n",
       "\t<li>'residual_sugar'</li>\n",
       "\t<li>'chlorides'</li>\n",
       "\t<li>'free_sulfur_dioxide'</li>\n",
       "\t<li>'total_sulfur_dioxide'</li>\n",
       "\t<li>'density'</li>\n",
       "\t<li>'pH'</li>\n",
       "\t<li>'sulphates'</li>\n",
       "\t<li>'alcohol'</li>\n",
       "</ol>\n",
       "</dd>\n",
       "\t<dt>$featureImportances</dt>\n",
       "\t\t<dd>'(12,[0,1,2,3,4,5,6,7,8,9,10,11],[0.050852409265433954,0.02310592093608085,0.17153475627969858,0.03126266055766849,0.04464060466074372,0.13081431272645175,0.06199559479965953,0.027321720740843613,0.12349440061827711,0.026305089735009612,0.01573270715776179,0.2929398225223711])'</dd>\n",
       "\t<dt>$maxDepth</dt>\n",
       "\t\t<dd>5</dd>\n",
       "\t<dt>$numTrees</dt>\n",
       "\t\t<dd>30</dd>\n",
       "</dl>\n"
      ],
      "text/latex": [
       "\\begin{description}\n",
       "\\item[\\$formula] 'quality \\textasciitilde{} .'\n",
       "\\item[\\$numFeatures] 12\n",
       "\\item[\\$features] \\begin{enumerate}\n",
       "\\item 'id'\n",
       "\\item 'fixed\\_acidity'\n",
       "\\item 'volatile\\_acidity'\n",
       "\\item 'citric\\_acid'\n",
       "\\item 'residual\\_sugar'\n",
       "\\item 'chlorides'\n",
       "\\item 'free\\_sulfur\\_dioxide'\n",
       "\\item 'total\\_sulfur\\_dioxide'\n",
       "\\item 'density'\n",
       "\\item 'pH'\n",
       "\\item 'sulphates'\n",
       "\\item 'alcohol'\n",
       "\\end{enumerate}\n",
       "\n",
       "\\item[\\$featureImportances] '(12,{[}0,1,2,3,4,5,6,7,8,9,10,11{]},{[}0.050852409265433954,0.02310592093608085,0.17153475627969858,0.03126266055766849,0.04464060466074372,0.13081431272645175,0.06199559479965953,0.027321720740843613,0.12349440061827711,0.026305089735009612,0.01573270715776179,0.2929398225223711{]})'\n",
       "\\item[\\$maxDepth] 5\n",
       "\\item[\\$numTrees] 30\n",
       "\\end{description}\n"
      ],
      "text/markdown": [
       "$formula\n",
       ":   'quality ~ .'\n",
       "$numFeatures\n",
       ":   12\n",
       "$features\n",
       ":   1. 'id'\n",
       "2. 'fixed_acidity'\n",
       "3. 'volatile_acidity'\n",
       "4. 'citric_acid'\n",
       "5. 'residual_sugar'\n",
       "6. 'chlorides'\n",
       "7. 'free_sulfur_dioxide'\n",
       "8. 'total_sulfur_dioxide'\n",
       "9. 'density'\n",
       "10. 'pH'\n",
       "11. 'sulphates'\n",
       "12. 'alcohol'\n",
       "\n",
       "\n",
       "\n",
       "$featureImportances\n",
       ":   '(12,[0,1,2,3,4,5,6,7,8,9,10,11],[0.050852409265433954,0.02310592093608085,0.17153475627969858,0.03126266055766849,0.04464060466074372,0.13081431272645175,0.06199559479965953,0.027321720740843613,0.12349440061827711,0.026305089735009612,0.01573270715776179,0.2929398225223711])'\n",
       "$maxDepth\n",
       ":   5\n",
       "$numTrees\n",
       ":   30\n",
       "\n",
       "\n"
      ],
      "text/plain": [
       "$formula\n",
       "[1] \"quality ~ .\"\n",
       "\n",
       "$numFeatures\n",
       "[1] 12\n",
       "\n",
       "$features\n",
       "$features[[1]]\n",
       "[1] \"id\"\n",
       "\n",
       "$features[[2]]\n",
       "[1] \"fixed_acidity\"\n",
       "\n",
       "$features[[3]]\n",
       "[1] \"volatile_acidity\"\n",
       "\n",
       "$features[[4]]\n",
       "[1] \"citric_acid\"\n",
       "\n",
       "$features[[5]]\n",
       "[1] \"residual_sugar\"\n",
       "\n",
       "$features[[6]]\n",
       "[1] \"chlorides\"\n",
       "\n",
       "$features[[7]]\n",
       "[1] \"free_sulfur_dioxide\"\n",
       "\n",
       "$features[[8]]\n",
       "[1] \"total_sulfur_dioxide\"\n",
       "\n",
       "$features[[9]]\n",
       "[1] \"density\"\n",
       "\n",
       "$features[[10]]\n",
       "[1] \"pH\"\n",
       "\n",
       "$features[[11]]\n",
       "[1] \"sulphates\"\n",
       "\n",
       "$features[[12]]\n",
       "[1] \"alcohol\"\n",
       "\n",
       "\n",
       "$featureImportances\n",
       "[1] \"(12,[0,1,2,3,4,5,6,7,8,9,10,11],[0.050852409265433954,0.02310592093608085,0.17153475627969858,0.03126266055766849,0.04464060466074372,0.13081431272645175,0.06199559479965953,0.027321720740843613,0.12349440061827711,0.026305089735009612,0.01573270715776179,0.2929398225223711])\"\n",
       "\n",
       "$maxDepth\n",
       "[1] 5\n",
       "\n",
       "$numTrees\n",
       "[1] 30\n"
      ]
     },
     "metadata": {},
     "output_type": "display_data"
    }
   ],
   "source": [
    "model <- spark.randomForest(train_df, quality ~ ., type=\"classification\", numTrees=30, seed=seed)\n",
    "head(summary(model))"
   ]
  },
  {
   "cell_type": "markdown",
   "metadata": {},
   "source": [
    "## Evaluate model"
   ]
  },
  {
   "cell_type": "code",
   "execution_count": 8,
   "metadata": {},
   "outputs": [
    {
     "data": {
      "text/html": [
       "'SparkDataFrame'"
      ],
      "text/latex": [
       "'SparkDataFrame'"
      ],
      "text/markdown": [
       "'SparkDataFrame'"
      ],
      "text/plain": [
       "[1] \"SparkDataFrame\"\n",
       "attr(,\"package\")\n",
       "[1] \"SparkR\""
      ]
     },
     "metadata": {},
     "output_type": "display_data"
    }
   ],
   "source": [
    "# Apply model to test data\n",
    "\n",
    "predictions_sdf <- predict(model, test_df)\n",
    "class(predictions_sdf)"
   ]
  },
  {
   "cell_type": "code",
   "execution_count": 9,
   "metadata": {},
   "outputs": [
    {
     "data": {
      "text/html": [
       "'data.frame'"
      ],
      "text/latex": [
       "'data.frame'"
      ],
      "text/markdown": [
       "'data.frame'"
      ],
      "text/plain": [
       "[1] \"data.frame\""
      ]
     },
     "metadata": {},
     "output_type": "display_data"
    },
    {
     "data": {
      "text/html": [
       "<table>\n",
       "<caption>A data.frame: 6 × 16</caption>\n",
       "<thead>\n",
       "\t<tr><th scope=col>id</th><th scope=col>fixed_acidity</th><th scope=col>volatile_acidity</th><th scope=col>citric_acid</th><th scope=col>residual_sugar</th><th scope=col>chlorides</th><th scope=col>free_sulfur_dioxide</th><th scope=col>total_sulfur_dioxide</th><th scope=col>density</th><th scope=col>pH</th><th scope=col>sulphates</th><th scope=col>alcohol</th><th scope=col>quality</th><th scope=col>rawPrediction</th><th scope=col>probability</th><th scope=col>prediction</th></tr>\n",
       "\t<tr><th scope=col>&lt;int&gt;</th><th scope=col>&lt;dbl&gt;</th><th scope=col>&lt;dbl&gt;</th><th scope=col>&lt;dbl&gt;</th><th scope=col>&lt;dbl&gt;</th><th scope=col>&lt;dbl&gt;</th><th scope=col>&lt;dbl&gt;</th><th scope=col>&lt;dbl&gt;</th><th scope=col>&lt;dbl&gt;</th><th scope=col>&lt;dbl&gt;</th><th scope=col>&lt;dbl&gt;</th><th scope=col>&lt;dbl&gt;</th><th scope=col>&lt;chr&gt;</th><th scope=col>&lt;list&gt;</th><th scope=col>&lt;list&gt;</th><th scope=col>&lt;chr&gt;</th></tr>\n",
       "</thead>\n",
       "<tbody>\n",
       "\t<tr><td> 877</td><td>6.9</td><td>0.36</td><td>0.34</td><td> 4.2</td><td>0.018</td><td>57</td><td>119</td><td>0.98980</td><td>3.28</td><td>0.36</td><td>12.7</td><td><span style=white-space:pre-wrap>good   </span></td><td>&lt;environment: 0x55f22862b990&gt;</td><td>&lt;environment: 0x55f224988c70&gt;</td><td><span style=white-space:pre-wrap>good   </span></td></tr>\n",
       "\t<tr><td>1057</td><td>7.5</td><td>0.21</td><td>0.34</td><td> 1.2</td><td>0.060</td><td>26</td><td>111</td><td>0.99310</td><td>3.51</td><td>0.47</td><td>10.7</td><td>average</td><td>&lt;environment: 0x55f228630928&gt;</td><td>&lt;environment: 0x55f224de6e00&gt;</td><td>average</td></tr>\n",
       "\t<tr><td>2429</td><td>7.3</td><td>0.22</td><td>0.26</td><td> 1.5</td><td>0.040</td><td>32</td><td>172</td><td>0.99194</td><td>3.27</td><td>0.48</td><td>11.2</td><td>average</td><td>&lt;environment: 0x55f228638d18&gt;</td><td>&lt;environment: 0x55f224dfc5a8&gt;</td><td>average</td></tr>\n",
       "\t<tr><td>4027</td><td>7.6</td><td>0.19</td><td>0.37</td><td>13.1</td><td>0.033</td><td>52</td><td>151</td><td>0.99726</td><td>3.18</td><td>0.79</td><td>10.4</td><td>average</td><td>&lt;environment: 0x55f22863f1b0&gt;</td><td>&lt;environment: 0x55f224df7808&gt;</td><td>average</td></tr>\n",
       "\t<tr><td>4493</td><td>6.0</td><td>0.19</td><td>0.37</td><td> 9.7</td><td>0.032</td><td>17</td><td> 50</td><td>0.99320</td><td>3.08</td><td>0.66</td><td>12.0</td><td>average</td><td>&lt;environment: 0x55f228644ae8&gt;</td><td>&lt;environment: 0x55f2248e16b8&gt;</td><td>average</td></tr>\n",
       "\t<tr><td>4535</td><td>6.4</td><td>0.24</td><td>0.27</td><td> 1.5</td><td>0.040</td><td>35</td><td>105</td><td>0.98914</td><td>3.13</td><td>0.30</td><td>12.4</td><td>average</td><td>&lt;environment: 0x55f22864c458&gt;</td><td>&lt;environment: 0x55f2248b4c30&gt;</td><td>average</td></tr>\n",
       "</tbody>\n",
       "</table>\n"
      ],
      "text/latex": [
       "A data.frame: 6 × 16\n",
       "\\begin{tabular}{r|llllllllllllllll}\n",
       " id & fixed\\_acidity & volatile\\_acidity & citric\\_acid & residual\\_sugar & chlorides & free\\_sulfur\\_dioxide & total\\_sulfur\\_dioxide & density & pH & sulphates & alcohol & quality & rawPrediction & probability & prediction\\\\\n",
       " <int> & <dbl> & <dbl> & <dbl> & <dbl> & <dbl> & <dbl> & <dbl> & <dbl> & <dbl> & <dbl> & <dbl> & <chr> & <list> & <list> & <chr>\\\\\n",
       "\\hline\n",
       "\t  877 & 6.9 & 0.36 & 0.34 &  4.2 & 0.018 & 57 & 119 & 0.98980 & 3.28 & 0.36 & 12.7 & good    & <environment: 0x55f22862b990> & <environment: 0x55f224988c70> & good   \\\\\n",
       "\t 1057 & 7.5 & 0.21 & 0.34 &  1.2 & 0.060 & 26 & 111 & 0.99310 & 3.51 & 0.47 & 10.7 & average & <environment: 0x55f228630928> & <environment: 0x55f224de6e00> & average\\\\\n",
       "\t 2429 & 7.3 & 0.22 & 0.26 &  1.5 & 0.040 & 32 & 172 & 0.99194 & 3.27 & 0.48 & 11.2 & average & <environment: 0x55f228638d18> & <environment: 0x55f224dfc5a8> & average\\\\\n",
       "\t 4027 & 7.6 & 0.19 & 0.37 & 13.1 & 0.033 & 52 & 151 & 0.99726 & 3.18 & 0.79 & 10.4 & average & <environment: 0x55f22863f1b0> & <environment: 0x55f224df7808> & average\\\\\n",
       "\t 4493 & 6.0 & 0.19 & 0.37 &  9.7 & 0.032 & 17 &  50 & 0.99320 & 3.08 & 0.66 & 12.0 & average & <environment: 0x55f228644ae8> & <environment: 0x55f2248e16b8> & average\\\\\n",
       "\t 4535 & 6.4 & 0.24 & 0.27 &  1.5 & 0.040 & 35 & 105 & 0.98914 & 3.13 & 0.30 & 12.4 & average & <environment: 0x55f22864c458> & <environment: 0x55f2248b4c30> & average\\\\\n",
       "\\end{tabular}\n"
      ],
      "text/markdown": [
       "\n",
       "A data.frame: 6 × 16\n",
       "\n",
       "| id &lt;int&gt; | fixed_acidity &lt;dbl&gt; | volatile_acidity &lt;dbl&gt; | citric_acid &lt;dbl&gt; | residual_sugar &lt;dbl&gt; | chlorides &lt;dbl&gt; | free_sulfur_dioxide &lt;dbl&gt; | total_sulfur_dioxide &lt;dbl&gt; | density &lt;dbl&gt; | pH &lt;dbl&gt; | sulphates &lt;dbl&gt; | alcohol &lt;dbl&gt; | quality &lt;chr&gt; | rawPrediction &lt;list&gt; | probability &lt;list&gt; | prediction &lt;chr&gt; |\n",
       "|---|---|---|---|---|---|---|---|---|---|---|---|---|---|---|---|\n",
       "|  877 | 6.9 | 0.36 | 0.34 |  4.2 | 0.018 | 57 | 119 | 0.98980 | 3.28 | 0.36 | 12.7 | good    | &lt;environment: 0x55f22862b990&gt; | &lt;environment: 0x55f224988c70&gt; | good    |\n",
       "| 1057 | 7.5 | 0.21 | 0.34 |  1.2 | 0.060 | 26 | 111 | 0.99310 | 3.51 | 0.47 | 10.7 | average | &lt;environment: 0x55f228630928&gt; | &lt;environment: 0x55f224de6e00&gt; | average |\n",
       "| 2429 | 7.3 | 0.22 | 0.26 |  1.5 | 0.040 | 32 | 172 | 0.99194 | 3.27 | 0.48 | 11.2 | average | &lt;environment: 0x55f228638d18&gt; | &lt;environment: 0x55f224dfc5a8&gt; | average |\n",
       "| 4027 | 7.6 | 0.19 | 0.37 | 13.1 | 0.033 | 52 | 151 | 0.99726 | 3.18 | 0.79 | 10.4 | average | &lt;environment: 0x55f22863f1b0&gt; | &lt;environment: 0x55f224df7808&gt; | average |\n",
       "| 4493 | 6.0 | 0.19 | 0.37 |  9.7 | 0.032 | 17 |  50 | 0.99320 | 3.08 | 0.66 | 12.0 | average | &lt;environment: 0x55f228644ae8&gt; | &lt;environment: 0x55f2248e16b8&gt; | average |\n",
       "| 4535 | 6.4 | 0.24 | 0.27 |  1.5 | 0.040 | 35 | 105 | 0.98914 | 3.13 | 0.30 | 12.4 | average | &lt;environment: 0x55f22864c458&gt; | &lt;environment: 0x55f2248b4c30&gt; | average |\n",
       "\n"
      ],
      "text/plain": [
       "  id   fixed_acidity volatile_acidity citric_acid residual_sugar chlorides\n",
       "1  877 6.9           0.36             0.34         4.2           0.018    \n",
       "2 1057 7.5           0.21             0.34         1.2           0.060    \n",
       "3 2429 7.3           0.22             0.26         1.5           0.040    \n",
       "4 4027 7.6           0.19             0.37        13.1           0.033    \n",
       "5 4493 6.0           0.19             0.37         9.7           0.032    \n",
       "6 4535 6.4           0.24             0.27         1.5           0.040    \n",
       "  free_sulfur_dioxide total_sulfur_dioxide density pH   sulphates alcohol\n",
       "1 57                  119                  0.98980 3.28 0.36      12.7   \n",
       "2 26                  111                  0.99310 3.51 0.47      10.7   \n",
       "3 32                  172                  0.99194 3.27 0.48      11.2   \n",
       "4 52                  151                  0.99726 3.18 0.79      10.4   \n",
       "5 17                   50                  0.99320 3.08 0.66      12.0   \n",
       "6 35                  105                  0.98914 3.13 0.30      12.4   \n",
       "  quality rawPrediction                 probability                  \n",
       "1 good    <environment: 0x55f22862b990> <environment: 0x55f224988c70>\n",
       "2 average <environment: 0x55f228630928> <environment: 0x55f224de6e00>\n",
       "3 average <environment: 0x55f228638d18> <environment: 0x55f224dfc5a8>\n",
       "4 average <environment: 0x55f22863f1b0> <environment: 0x55f224df7808>\n",
       "5 average <environment: 0x55f228644ae8> <environment: 0x55f2248e16b8>\n",
       "6 average <environment: 0x55f22864c458> <environment: 0x55f2248b4c30>\n",
       "  prediction\n",
       "1 good      \n",
       "2 average   \n",
       "3 average   \n",
       "4 average   \n",
       "5 average   \n",
       "6 average   "
      ]
     },
     "metadata": {},
     "output_type": "display_data"
    }
   ],
   "source": [
    "# Convert results from Spark DataFrame to R data.frame\n",
    "\n",
    "predictions_df <- as.data.frame(predictions_sdf)\n",
    "class(predictions_df)\n",
    "head(predictions_df)"
   ]
  },
  {
   "cell_type": "code",
   "execution_count": 10,
   "metadata": {},
   "outputs": [
    {
     "data": {
      "text/html": [
       "<span style=white-space:pre-wrap>'Accuracy on Test Data:  0.605898'</span>"
      ],
      "text/latex": [
       "'Accuracy on Test Data:  0.605898'"
      ],
      "text/markdown": [
       "<span style=white-space:pre-wrap>'Accuracy on Test Data:  0.605898'</span>"
      ],
      "text/plain": [
       "[1] \"Accuracy on Test Data:  0.605898\""
      ]
     },
     "metadata": {},
     "output_type": "display_data"
    }
   ],
   "source": [
    "# Calculate accuracy\n",
    "\n",
    "accuracy <- mean(predictions_df$quality == predictions_df$prediction)\n",
    "sprintf (\"Accuracy on Test Data:  %f\", accuracy)"
   ]
  },
  {
   "cell_type": "code",
   "execution_count": 11,
   "metadata": {},
   "outputs": [
    {
     "data": {
      "text/plain": [
       "         \n",
       "          average bad good\n",
       "  average     444 164   73\n",
       "  bad         167 337    8\n",
       "  good        165  11  123"
      ]
     },
     "metadata": {},
     "output_type": "display_data"
    }
   ],
   "source": [
    "# Confusion matrix\n",
    "\n",
    "table(predictions_df$quality, predictions_df$prediction)"
   ]
  },
  {
   "cell_type": "markdown",
   "metadata": {},
   "source": [
    "## Save model"
   ]
  },
  {
   "cell_type": "code",
   "execution_count": 12,
   "metadata": {},
   "outputs": [],
   "source": [
    "# Save model (NOTE:  Existing model will be overwritten)\n",
    "\n",
    "write.ml(model, \"wine-model-sparkR\", overwrite=TRUE)"
   ]
  },
  {
   "cell_type": "markdown",
   "metadata": {},
   "source": [
    "## Stop cluster"
   ]
  },
  {
   "cell_type": "code",
   "execution_count": 13,
   "metadata": {},
   "outputs": [],
   "source": [
    "# Stop Spark cluster\n",
    "\n",
    "sparkR.stop()"
   ]
  },
  {
   "cell_type": "code",
   "execution_count": null,
   "metadata": {},
   "outputs": [],
   "source": []
  }
 ],
 "metadata": {
  "kernelspec": {
   "display_name": "R",
   "language": "R",
   "name": "ir"
  },
  "language_info": {
   "codemirror_mode": "r",
   "file_extension": ".r",
   "mimetype": "text/x-r-source",
   "name": "R",
   "pygments_lexer": "r",
   "version": "3.6.0"
  }
 },
 "nbformat": 4,
 "nbformat_minor": 2
}

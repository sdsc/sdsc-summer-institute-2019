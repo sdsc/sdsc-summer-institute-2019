{
 "cells": [
  {
   "cell_type": "markdown",
   "metadata": {},
   "source": [
    "# CNN Transfer Learning on Cats-Dogs Classification\n",
    "\n",
    "### VGG16 trained on ImageNet data is used as pre-trained model from which to extract features.  Features are then saved, and passed through neural network with ReLu hidden layer to classify cats vs. dogs.\n",
    "\n",
    "#### Adapted from fchollet/classifier_from_little_data_script_2.py (https://gist.github.com/fchollet/f35fbc80e066a49d65f1688a7e99f069) and blog https://blog.keras.io/building-powerful-image-classification-models-using-very-little-data.html"
   ]
  },
  {
   "cell_type": "code",
   "execution_count": 1,
   "metadata": {},
   "outputs": [
    {
     "name": "stderr",
     "output_type": "stream",
     "text": [
      "Using TensorFlow backend.\n"
     ]
    }
   ],
   "source": [
    "import keras"
   ]
  },
  {
   "cell_type": "code",
   "execution_count": 2,
   "metadata": {},
   "outputs": [],
   "source": [
    "from keras.models import Sequential\n",
    "from keras.preprocessing.image import ImageDataGenerator\n",
    "from keras.layers import Dropout, Flatten, Dense\n",
    "from keras import backend as K\n",
    "from keras import applications\n",
    "import numpy as np"
   ]
  },
  {
   "cell_type": "code",
   "execution_count": 3,
   "metadata": {},
   "outputs": [
    {
     "name": "stdout",
     "output_type": "stream",
     "text": [
      "1.14.0\n",
      "2.2.4\n"
     ]
    }
   ],
   "source": [
    "import tensorflow as tf\n",
    "print (tf.__version__)\n",
    "print (keras.__version__)"
   ]
  },
  {
   "cell_type": "code",
   "execution_count": 4,
   "metadata": {},
   "outputs": [],
   "source": [
    "# Set logging level\n",
    "import tensorflow as tf\n",
    "tf.logging.set_verbosity(tf.logging.ERROR)"
   ]
  },
  {
   "cell_type": "code",
   "execution_count": 5,
   "metadata": {},
   "outputs": [],
   "source": [
    "# Set random generator seed\n",
    "from numpy.random import seed\n",
    "seed(1)\n",
    "\n",
    "from tensorflow import set_random_seed\n",
    "set_random_seed(2)"
   ]
  },
  {
   "cell_type": "markdown",
   "metadata": {},
   "source": [
    "### Set dimensions, number, and location of images"
   ]
  },
  {
   "cell_type": "code",
   "execution_count": 6,
   "metadata": {},
   "outputs": [
    {
     "name": "stdout",
     "output_type": "stream",
     "text": [
      "(150, 150, 3)\n"
     ]
    }
   ],
   "source": [
    "# Image dimensions\n",
    "img_width, img_height = 150, 150\n",
    "\n",
    "# Location of images\n",
    "train_data_dir = 'data/train'\n",
    "validation_data_dir = 'data/validation'\n",
    "\n",
    "if K.image_data_format() == 'channels_first':\n",
    "    input_shape = (3, img_width, img_height)\n",
    "else:\n",
    "    input_shape = (img_width, img_height, 3)\n",
    "    \n",
    "print (input_shape)\n",
    "\n",
    "# Number of images\n",
    "nb_train_samples = 2000\n",
    "nb_validation_samples = 800\n",
    "\n",
    "# Batch size\n",
    "batch_size = 16"
   ]
  },
  {
   "cell_type": "markdown",
   "metadata": {},
   "source": [
    "### Extract features from pre-trained network and save features"
   ]
  },
  {
   "cell_type": "code",
   "execution_count": 7,
   "metadata": {},
   "outputs": [],
   "source": [
    "def save_features():\n",
    "    \n",
    "    # Scale pixel values in image\n",
    "    datagen = ImageDataGenerator(rescale=1. / 255)\n",
    "\n",
    "    # Load the VGG16 network's imagenet weights, not including the last fully connected layers.\n",
    "    model = applications.VGG16(include_top=False, weights='imagenet')\n",
    "\n",
    "    # Generator that will read pictures found in subfolders of training data directory,\n",
    "    # and indefinitely generate batches of image data (scaled)\n",
    "    generator = datagen.flow_from_directory(\n",
    "        train_data_dir,\n",
    "        target_size=(img_width, img_height),\n",
    "        batch_size=batch_size,\n",
    "        class_mode=None,        # Generator will only yield batches of data, no labels\n",
    "        shuffle=False)          # Data will be presented in order, i.e., 1000 cat images, then 1000 dog images\n",
    "    \n",
    "    # The predict_generator method returns the output of the model, given input provided by a generator\n",
    "    # that yields batches of numpy data\n",
    "    features_train = model.predict_generator(\n",
    "        generator, nb_train_samples // batch_size)\n",
    "    \n",
    "    # Save model outputs (i.e., features) from model as numpy array\n",
    "    np.save('features_train.npy', features_train) \n",
    "\n",
    "    # Generator to generator validation input for model\n",
    "    generator = datagen.flow_from_directory(\n",
    "        validation_data_dir,\n",
    "        target_size=(img_width, img_height),\n",
    "        batch_size=batch_size,\n",
    "        class_mode=None,\n",
    "        shuffle=False)\n",
    "    \n",
    "    # Get model output for validation data\n",
    "    features_validation = model.predict_generator(\n",
    "        generator, nb_validation_samples // batch_size)\n",
    "    \n",
    "    # Save model outputs (i.e., features) for validation data\n",
    "    np.save('features_validation.npy', features_validation) \n",
    "    \n",
    "    # Print out model architecture\n",
    "    model.summary()"
   ]
  },
  {
   "cell_type": "code",
   "execution_count": 8,
   "metadata": {
    "scrolled": true
   },
   "outputs": [
    {
     "name": "stdout",
     "output_type": "stream",
     "text": [
      "Found 2000 images belonging to 2 classes.\n",
      "Found 800 images belonging to 2 classes.\n",
      "_________________________________________________________________\n",
      "Layer (type)                 Output Shape              Param #   \n",
      "=================================================================\n",
      "input_1 (InputLayer)         (None, None, None, 3)     0         \n",
      "_________________________________________________________________\n",
      "block1_conv1 (Conv2D)        (None, None, None, 64)    1792      \n",
      "_________________________________________________________________\n",
      "block1_conv2 (Conv2D)        (None, None, None, 64)    36928     \n",
      "_________________________________________________________________\n",
      "block1_pool (MaxPooling2D)   (None, None, None, 64)    0         \n",
      "_________________________________________________________________\n",
      "block2_conv1 (Conv2D)        (None, None, None, 128)   73856     \n",
      "_________________________________________________________________\n",
      "block2_conv2 (Conv2D)        (None, None, None, 128)   147584    \n",
      "_________________________________________________________________\n",
      "block2_pool (MaxPooling2D)   (None, None, None, 128)   0         \n",
      "_________________________________________________________________\n",
      "block3_conv1 (Conv2D)        (None, None, None, 256)   295168    \n",
      "_________________________________________________________________\n",
      "block3_conv2 (Conv2D)        (None, None, None, 256)   590080    \n",
      "_________________________________________________________________\n",
      "block3_conv3 (Conv2D)        (None, None, None, 256)   590080    \n",
      "_________________________________________________________________\n",
      "block3_pool (MaxPooling2D)   (None, None, None, 256)   0         \n",
      "_________________________________________________________________\n",
      "block4_conv1 (Conv2D)        (None, None, None, 512)   1180160   \n",
      "_________________________________________________________________\n",
      "block4_conv2 (Conv2D)        (None, None, None, 512)   2359808   \n",
      "_________________________________________________________________\n",
      "block4_conv3 (Conv2D)        (None, None, None, 512)   2359808   \n",
      "_________________________________________________________________\n",
      "block4_pool (MaxPooling2D)   (None, None, None, 512)   0         \n",
      "_________________________________________________________________\n",
      "block5_conv1 (Conv2D)        (None, None, None, 512)   2359808   \n",
      "_________________________________________________________________\n",
      "block5_conv2 (Conv2D)        (None, None, None, 512)   2359808   \n",
      "_________________________________________________________________\n",
      "block5_conv3 (Conv2D)        (None, None, None, 512)   2359808   \n",
      "_________________________________________________________________\n",
      "block5_pool (MaxPooling2D)   (None, None, None, 512)   0         \n",
      "=================================================================\n",
      "Total params: 14,714,688\n",
      "Trainable params: 14,714,688\n",
      "Non-trainable params: 0\n",
      "_________________________________________________________________\n"
     ]
    }
   ],
   "source": [
    "save_features()"
   ]
  },
  {
   "cell_type": "markdown",
   "metadata": {},
   "source": [
    "### Load saved features"
   ]
  },
  {
   "cell_type": "code",
   "execution_count": 9,
   "metadata": {},
   "outputs": [
    {
     "name": "stdout",
     "output_type": "stream",
     "text": [
      "(2000,) (800,)\n"
     ]
    }
   ],
   "source": [
    "# Load saved features for train data\n",
    "train_data = np.load('features_train.npy')\n",
    "    \n",
    "# Create labels for train data.  Images were generated in order, so creating labels is easy.\n",
    "train_labels = np.array([0] * (nb_train_samples // 2) + [1] * (nb_train_samples // 2)) \n",
    "\n",
    "# Load saved features for validation data\n",
    "validation_data = np.load('features_validation.npy') \n",
    "    \n",
    "# Create labels for validation data\n",
    "validation_labels = np.array([0] * (nb_validation_samples // 2) + [1] * (nb_validation_samples // 2)) \n",
    "    \n",
    "print (train_labels.shape, validation_labels.shape)"
   ]
  },
  {
   "cell_type": "markdown",
   "metadata": {},
   "source": [
    "### Create top model"
   ]
  },
  {
   "cell_type": "code",
   "execution_count": 10,
   "metadata": {
    "scrolled": true
   },
   "outputs": [
    {
     "name": "stdout",
     "output_type": "stream",
     "text": [
      "<keras.engine.sequential.Sequential object at 0x2b76b006a5c0>\n",
      "_________________________________________________________________\n",
      "Layer (type)                 Output Shape              Param #   \n",
      "=================================================================\n",
      "flatten_1 (Flatten)          (None, 8192)              0         \n",
      "_________________________________________________________________\n",
      "dense_1 (Dense)              (None, 256)               2097408   \n",
      "_________________________________________________________________\n",
      "dropout_1 (Dropout)          (None, 256)               0         \n",
      "_________________________________________________________________\n",
      "dense_2 (Dense)              (None, 1)                 257       \n",
      "=================================================================\n",
      "Total params: 2,097,665\n",
      "Trainable params: 2,097,665\n",
      "Non-trainable params: 0\n",
      "_________________________________________________________________\n"
     ]
    }
   ],
   "source": [
    "# Create fully connected layer on top of model\n",
    "top_model = Sequential()\n",
    "top_model.add(Flatten(input_shape=train_data.shape[1:]))  # Convert 3D feature maps to 1D feature vectors\n",
    "top_model.add(Dense(256, activation='relu'))\n",
    "top_model.add(Dropout(0.5))\n",
    "top_model.add(Dense(1, activation='sigmoid'))\n",
    "\n",
    "# Create model\n",
    "top_model.compile(optimizer='rmsprop',\n",
    "              loss='binary_crossentropy', \n",
    "              metrics=['accuracy'])\n",
    "print(top_model)\n",
    "top_model.summary()\n"
   ]
  },
  {
   "cell_type": "markdown",
   "metadata": {},
   "source": [
    "### Train top model"
   ]
  },
  {
   "cell_type": "code",
   "execution_count": 11,
   "metadata": {},
   "outputs": [
    {
     "name": "stdout",
     "output_type": "stream",
     "text": [
      "Train on 2000 samples, validate on 800 samples\n",
      "Epoch 1/50\n",
      "2000/2000 [==============================] - 1s 451us/step - loss: 0.7173 - acc: 0.7445 - val_loss: 0.2955 - val_acc: 0.8788\n",
      "Epoch 2/50\n",
      "2000/2000 [==============================] - 1s 262us/step - loss: 0.3366 - acc: 0.8525 - val_loss: 0.2619 - val_acc: 0.8925\n",
      "Epoch 3/50\n",
      "2000/2000 [==============================] - 1s 262us/step - loss: 0.2733 - acc: 0.8930 - val_loss: 0.2399 - val_acc: 0.9000\n",
      "Epoch 4/50\n",
      "2000/2000 [==============================] - 1s 262us/step - loss: 0.2335 - acc: 0.9060 - val_loss: 0.2654 - val_acc: 0.9050\n",
      "Epoch 5/50\n",
      "2000/2000 [==============================] - 1s 262us/step - loss: 0.1953 - acc: 0.9210 - val_loss: 0.2883 - val_acc: 0.9025\n",
      "Epoch 6/50\n",
      "2000/2000 [==============================] - 1s 264us/step - loss: 0.2014 - acc: 0.9205 - val_loss: 0.2499 - val_acc: 0.9025\n",
      "Epoch 7/50\n",
      "2000/2000 [==============================] - 1s 261us/step - loss: 0.1649 - acc: 0.9355 - val_loss: 0.2898 - val_acc: 0.9025\n",
      "Epoch 8/50\n",
      "2000/2000 [==============================] - 1s 262us/step - loss: 0.1512 - acc: 0.9415 - val_loss: 0.3122 - val_acc: 0.9025\n",
      "Epoch 9/50\n",
      "2000/2000 [==============================] - 1s 263us/step - loss: 0.1308 - acc: 0.9490 - val_loss: 0.3352 - val_acc: 0.9050\n",
      "Epoch 10/50\n",
      "2000/2000 [==============================] - 1s 265us/step - loss: 0.1057 - acc: 0.9590 - val_loss: 0.3980 - val_acc: 0.9025\n",
      "Epoch 11/50\n",
      "2000/2000 [==============================] - 1s 263us/step - loss: 0.1117 - acc: 0.9580 - val_loss: 0.3548 - val_acc: 0.9050\n",
      "Epoch 12/50\n",
      "2000/2000 [==============================] - 1s 262us/step - loss: 0.0945 - acc: 0.9615 - val_loss: 0.3923 - val_acc: 0.9038\n",
      "Epoch 13/50\n",
      "2000/2000 [==============================] - 1s 262us/step - loss: 0.0867 - acc: 0.9710 - val_loss: 0.4283 - val_acc: 0.9025\n",
      "Epoch 14/50\n",
      "2000/2000 [==============================] - 1s 262us/step - loss: 0.0794 - acc: 0.9720 - val_loss: 0.4469 - val_acc: 0.9012\n",
      "Epoch 15/50\n",
      "2000/2000 [==============================] - 1s 262us/step - loss: 0.0666 - acc: 0.9775 - val_loss: 0.4717 - val_acc: 0.9050\n",
      "Epoch 16/50\n",
      "2000/2000 [==============================] - 1s 263us/step - loss: 0.0580 - acc: 0.9780 - val_loss: 0.4438 - val_acc: 0.8950\n",
      "Epoch 17/50\n",
      "2000/2000 [==============================] - 1s 262us/step - loss: 0.0538 - acc: 0.9815 - val_loss: 0.4632 - val_acc: 0.9000\n",
      "Epoch 18/50\n",
      "2000/2000 [==============================] - 1s 265us/step - loss: 0.0489 - acc: 0.9810 - val_loss: 0.6483 - val_acc: 0.8850\n",
      "Epoch 19/50\n",
      "2000/2000 [==============================] - 1s 261us/step - loss: 0.0430 - acc: 0.9855 - val_loss: 0.5530 - val_acc: 0.9025\n",
      "Epoch 20/50\n",
      "2000/2000 [==============================] - 1s 262us/step - loss: 0.0393 - acc: 0.9830 - val_loss: 0.6338 - val_acc: 0.8988\n",
      "Epoch 21/50\n",
      "2000/2000 [==============================] - 1s 263us/step - loss: 0.0469 - acc: 0.9845 - val_loss: 0.6251 - val_acc: 0.8962\n",
      "Epoch 22/50\n",
      "2000/2000 [==============================] - 1s 264us/step - loss: 0.0351 - acc: 0.9865 - val_loss: 0.9546 - val_acc: 0.8562\n",
      "Epoch 23/50\n",
      "2000/2000 [==============================] - 1s 264us/step - loss: 0.0355 - acc: 0.9890 - val_loss: 0.8198 - val_acc: 0.8800\n",
      "Epoch 24/50\n",
      "2000/2000 [==============================] - 1s 261us/step - loss: 0.0253 - acc: 0.9910 - val_loss: 0.8321 - val_acc: 0.8775\n",
      "Epoch 25/50\n",
      "2000/2000 [==============================] - 1s 264us/step - loss: 0.0251 - acc: 0.9890 - val_loss: 0.7046 - val_acc: 0.8912\n",
      "Epoch 26/50\n",
      "2000/2000 [==============================] - 1s 264us/step - loss: 0.0310 - acc: 0.9875 - val_loss: 0.7247 - val_acc: 0.9025\n",
      "Epoch 27/50\n",
      "2000/2000 [==============================] - 1s 263us/step - loss: 0.0218 - acc: 0.9935 - val_loss: 0.8311 - val_acc: 0.8850\n",
      "Epoch 28/50\n",
      "2000/2000 [==============================] - 1s 262us/step - loss: 0.0325 - acc: 0.9900 - val_loss: 0.7169 - val_acc: 0.8975\n",
      "Epoch 29/50\n",
      "2000/2000 [==============================] - 1s 264us/step - loss: 0.0229 - acc: 0.9920 - val_loss: 0.7572 - val_acc: 0.8950\n",
      "Epoch 30/50\n",
      "2000/2000 [==============================] - 1s 260us/step - loss: 0.0170 - acc: 0.9920 - val_loss: 0.7354 - val_acc: 0.8962\n",
      "Epoch 31/50\n",
      "2000/2000 [==============================] - 1s 264us/step - loss: 0.0353 - acc: 0.9900 - val_loss: 0.7715 - val_acc: 0.8938\n",
      "Epoch 32/50\n",
      "2000/2000 [==============================] - 1s 261us/step - loss: 0.0190 - acc: 0.9955 - val_loss: 0.8113 - val_acc: 0.8988\n",
      "Epoch 33/50\n",
      "2000/2000 [==============================] - 1s 263us/step - loss: 0.0167 - acc: 0.9940 - val_loss: 0.7493 - val_acc: 0.9025\n",
      "Epoch 34/50\n",
      "2000/2000 [==============================] - 1s 260us/step - loss: 0.0298 - acc: 0.9920 - val_loss: 0.6855 - val_acc: 0.9000\n",
      "Epoch 35/50\n",
      "2000/2000 [==============================] - 1s 263us/step - loss: 0.0184 - acc: 0.9950 - val_loss: 0.7340 - val_acc: 0.8988\n",
      "Epoch 36/50\n",
      "2000/2000 [==============================] - 1s 261us/step - loss: 0.0233 - acc: 0.9945 - val_loss: 0.8530 - val_acc: 0.8925\n",
      "Epoch 37/50\n",
      "2000/2000 [==============================] - 1s 262us/step - loss: 0.0127 - acc: 0.9970 - val_loss: 0.8070 - val_acc: 0.8888\n",
      "Epoch 38/50\n",
      "2000/2000 [==============================] - 1s 262us/step - loss: 0.0166 - acc: 0.9950 - val_loss: 0.8029 - val_acc: 0.8950\n",
      "Epoch 39/50\n",
      "2000/2000 [==============================] - 1s 262us/step - loss: 0.0211 - acc: 0.9935 - val_loss: 0.9350 - val_acc: 0.8875\n",
      "Epoch 40/50\n",
      "2000/2000 [==============================] - 1s 260us/step - loss: 0.0231 - acc: 0.9930 - val_loss: 0.8393 - val_acc: 0.8950\n",
      "Epoch 41/50\n",
      "2000/2000 [==============================] - 1s 263us/step - loss: 0.0251 - acc: 0.9940 - val_loss: 0.8569 - val_acc: 0.8988\n",
      "Epoch 42/50\n",
      "2000/2000 [==============================] - 1s 262us/step - loss: 0.0114 - acc: 0.9955 - val_loss: 0.8935 - val_acc: 0.8988\n",
      "Epoch 43/50\n",
      "2000/2000 [==============================] - 1s 261us/step - loss: 0.0038 - acc: 0.9985 - val_loss: 0.9892 - val_acc: 0.8912\n",
      "Epoch 44/50\n",
      "2000/2000 [==============================] - 1s 264us/step - loss: 0.0272 - acc: 0.9925 - val_loss: 0.8284 - val_acc: 0.8925\n",
      "Epoch 45/50\n",
      "2000/2000 [==============================] - 1s 264us/step - loss: 0.0068 - acc: 0.9965 - val_loss: 0.9492 - val_acc: 0.8938\n",
      "Epoch 46/50\n",
      "2000/2000 [==============================] - 1s 262us/step - loss: 0.0080 - acc: 0.9975 - val_loss: 0.9887 - val_acc: 0.8875\n",
      "Epoch 47/50\n",
      "2000/2000 [==============================] - 1s 259us/step - loss: 0.0260 - acc: 0.9960 - val_loss: 0.9614 - val_acc: 0.8962\n",
      "Epoch 48/50\n",
      "2000/2000 [==============================] - 1s 262us/step - loss: 0.0179 - acc: 0.9955 - val_loss: 0.8985 - val_acc: 0.8975\n",
      "Epoch 49/50\n",
      "2000/2000 [==============================] - 1s 263us/step - loss: 0.0179 - acc: 0.9945 - val_loss: 1.0154 - val_acc: 0.8900\n",
      "Epoch 50/50\n",
      "2000/2000 [==============================] - 1s 263us/step - loss: 0.0051 - acc: 0.9985 - val_loss: 0.9518 - val_acc: 0.9025\n"
     ]
    }
   ],
   "source": [
    "# Set up model\n",
    "epochs = 50\n",
    "\n",
    "# Train model, keeping track of history\n",
    "from keras.callbacks import History\n",
    "hist = top_model.fit(train_data, train_labels,\n",
    "                 epochs=epochs,\n",
    "                 batch_size=batch_size,\n",
    "                 validation_data=(validation_data, validation_labels))"
   ]
  },
  {
   "cell_type": "markdown",
   "metadata": {},
   "source": [
    "### Save model and weights"
   ]
  },
  {
   "cell_type": "code",
   "execution_count": 12,
   "metadata": {},
   "outputs": [
    {
     "name": "stdout",
     "output_type": "stream",
     "text": [
      "['loss', 'acc']\n",
      "800/800 [==============================] - 0s 44us/step\n",
      "[0.9517863084282726, 0.9025]\n"
     ]
    }
   ],
   "source": [
    "# Save model & weights to HDF5 file\n",
    "top_model_file = 'features_model' \n",
    "top_model.save(top_model_file + '.h5')\n",
    "\n",
    "# Save model to JSON file & weights to HDF5 file\n",
    "top_model_json = top_model.to_json()\n",
    "with open(top_model_file + '.json','w') as json_file:\n",
    "    json_file.write(top_model_json)\n",
    "top_model.save_weights(top_model_file+'-wts.h5')\n",
    "\n",
    "# Results on validation set\n",
    "print (top_model.metrics_names)\n",
    "results = top_model.evaluate (validation_data, validation_labels)\n",
    "print (results)"
   ]
  },
  {
   "cell_type": "markdown",
   "metadata": {
    "collapsed": true
   },
   "source": [
    "### Load model again and test"
   ]
  },
  {
   "cell_type": "code",
   "execution_count": 13,
   "metadata": {},
   "outputs": [
    {
     "name": "stdout",
     "output_type": "stream",
     "text": [
      "(800,)\n",
      "['loss', 'acc']\n",
      "800/800 [==============================] - 0s 109us/step\n",
      "[0.9517863084282726, 0.9025]\n"
     ]
    }
   ],
   "source": [
    "top_model2 = keras.models.load_model(top_model_file+'.h5')\n",
    "print (validation_labels.shape)\n",
    "\n",
    "print (top_model2.metrics_names)\n",
    "results = top_model2.evaluate(validation_data, validation_labels)\n",
    "print (results)"
   ]
  },
  {
   "cell_type": "markdown",
   "metadata": {},
   "source": [
    "### Print training history"
   ]
  },
  {
   "cell_type": "code",
   "execution_count": 14,
   "metadata": {},
   "outputs": [
    {
     "name": "stdout",
     "output_type": "stream",
     "text": [
      "{'val_loss': [0.29550837591290474, 0.2619392427802086, 0.2399297235161066, 0.26536471109837295, 0.2883329723030329, 0.24992597851902246, 0.2897954322583973, 0.31217764580622315, 0.3352208779472858, 0.39801991593674757, 0.3547872976027429, 0.3922950893314555, 0.4283073475700803, 0.4469229808205273, 0.47171028133336224, 0.44378503117128276, 0.46315815157373436, 0.6482554030558458, 0.5530002697507734, 0.6337780241169457, 0.6251263874844881, 0.9545960466647228, 0.819805117763226, 0.8321390694003117, 0.7046007916537246, 0.7247405769681382, 0.8311344434639375, 0.7168575236459764, 0.7572092972567543, 0.7354465282154433, 0.77146533300275, 0.811268423377295, 0.7492962822355139, 0.685479663200149, 0.7339621196353073, 0.8529876519172365, 0.8069830911780537, 0.8029036299770929, 0.934992543977661, 0.8392762804153461, 0.8568554513889217, 0.8934931571906575, 0.9892102050986058, 0.8284352308381085, 0.9492261414801691, 0.9886890852915429, 0.9613967794786484, 0.8984629733809482, 1.0154269373450842, 0.951786300164795], 'val_acc': [0.87875, 0.8925, 0.9, 0.905, 0.9025, 0.9025, 0.9025, 0.9025, 0.905, 0.9025, 0.905, 0.90375, 0.9025, 0.90125, 0.905, 0.895, 0.9, 0.885, 0.9025, 0.89875, 0.89625, 0.85625, 0.88, 0.8775, 0.89125, 0.9025, 0.885, 0.8975, 0.895, 0.89625, 0.89375, 0.89875, 0.9025, 0.9, 0.89875, 0.8925, 0.88875, 0.895, 0.8875, 0.895, 0.89875, 0.89875, 0.89125, 0.8925, 0.89375, 0.8875, 0.89625, 0.8975, 0.89, 0.9025], 'loss': [0.7172579529285431, 0.3366296688616276, 0.2732620980143547, 0.23348835901916026, 0.1952514191493392, 0.20136816816031933, 0.16494823008030654, 0.1512283532540314, 0.130787459615618, 0.10573118778690696, 0.11171498006954789, 0.09454809056641535, 0.08668700748764968, 0.07939493359834887, 0.0665810716158012, 0.05802268043844379, 0.05375428423804988, 0.048908998436585534, 0.04299191243834503, 0.03931059490948246, 0.046851183750766724, 0.03508923874668107, 0.0355449313576546, 0.025253956362121244, 0.025066200243222966, 0.030951990399318674, 0.021827115066394297, 0.03248614446901388, 0.02288999478168489, 0.01701122047796525, 0.03525548437481029, 0.019018803553417, 0.01666399994393578, 0.029815716777332454, 0.018364194751230797, 0.023274401526738528, 0.01274232355161962, 0.016612006428740982, 0.021148677569763095, 0.023114203277186107, 0.025063777163809618, 0.01138279256024407, 0.003804693258672728, 0.027227623220922283, 0.006751863970729687, 0.007957635917486869, 0.0259694130347126, 0.017914551018430872, 0.01787463007795509, 0.005068420717841491], 'acc': [0.7445, 0.8525, 0.893, 0.906, 0.921, 0.9205, 0.9355, 0.9415, 0.949, 0.959, 0.958, 0.9615, 0.971, 0.972, 0.9775, 0.978, 0.9815, 0.981, 0.9855, 0.983, 0.9845, 0.9865, 0.989, 0.991, 0.989, 0.9875, 0.9935, 0.99, 0.992, 0.992, 0.99, 0.9955, 0.994, 0.992, 0.995, 0.9945, 0.997, 0.995, 0.9935, 0.993, 0.994, 0.9955, 0.9985, 0.9925, 0.9965, 0.9975, 0.996, 0.9955, 0.9945, 0.9985]}\n"
     ]
    }
   ],
   "source": [
    "print (hist.history)"
   ]
  },
  {
   "cell_type": "markdown",
   "metadata": {},
   "source": [
    "### Plot performance metrics"
   ]
  },
  {
   "cell_type": "code",
   "execution_count": 15,
   "metadata": {},
   "outputs": [
    {
     "data": {
      "image/png": "[encoded data removed]",
      "text/plain": [
       "<Figure size 432x288 with 1 Axes>"
      ]
     },
     "metadata": {
      "needs_background": "light"
     },
     "output_type": "display_data"
    }
   ],
   "source": [
    "import matplotlib.pyplot as plt\n",
    "%matplotlib inline\n",
    "\n",
    "result = hist.history\n",
    "\n",
    "# summarize history for accuracy\n",
    "plt.plot(result['acc'])\n",
    "plt.plot(result['val_acc'])\n",
    "plt.title('model accuracy')\n",
    "plt.ylabel('accuracy')\n",
    "plt.xlabel('epoch')\n",
    "plt.legend(['train', 'val'], loc='upper left')\n",
    "plt.show()"
   ]
  },
  {
   "cell_type": "code",
   "execution_count": null,
   "metadata": {},
   "outputs": [],
   "source": []
  }
 ],
 "metadata": {
  "kernelspec": {
   "display_name": "Python 3",
   "language": "python",
   "name": "python3"
  },
  "language_info": {
   "codemirror_mode": {
    "name": "ipython",
    "version": 3
   },
   "file_extension": ".py",
   "mimetype": "text/x-python",
   "name": "python",
   "nbconvert_exporter": "python",
   "pygments_lexer": "ipython3",
   "version": "3.7.3"
  }
 },
 "nbformat": 4,
 "nbformat_minor": 2
}
